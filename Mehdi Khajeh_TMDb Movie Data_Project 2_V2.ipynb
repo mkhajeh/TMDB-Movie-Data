{
 "cells": [
  {
   "cell_type": "markdown",
   "metadata": {},
   "source": [
    "# Project: TMDb Movie Data\n",
    "\n",
    "## Table of Contents\n",
    "<ul>\n",
    "<li><a href=\"#intro\">Introduction</a></li>\n",
    "<li><a href=\"#wrangling\">Data Wrangling</a></li>\n",
    "<li><a href=\"#eda\">Exploratory Data Analysis</a></li>\n",
    "<li><a href=\"#limitation\">Limitation</a></li>    \n",
    "<li><a href=\"#conclusions\">Conclusions</a></li>\n",
    "</ul>"
   ]
  },
  {
   "cell_type": "markdown",
   "metadata": {},
   "source": [
    "<a id='intro'></a>\n",
    "## Introduction\n",
    "\n",
    "\n",
    "> For this project, I chose **'TMDB Movie Data'**. After importing .csv file and initial quick investigation, I found the followings:\n",
    ">\n",
    "> The main columns in this data set are:\n",
    " - **Definitive characters of each movie**, including: *id, imdb_id, original_title, cast, home_page, tagline*\n",
    " - **Director, Casts, production_Companies, genres, release_date, runtime and budget** of each movie\n",
    " - **Some metrics for each movie**, including: *revenue*, *popularity*, *vote_count*, *vote_average*\n",
    ">\n",
    "> Some initial thoughts that I had to finalize the research questions that I could potentially answer to them for this study was to see:\n",
    ">\n",
    "> **What is the relationship between revenue generation, popularity and vote average(considered as dependent variable) and other parameters of a movie like: budget, direcot/cast/production_company, release_year, release_month and genres (which are independent variables)**\n",
    "> \n",
    "> Initial investigation showed that number of individual directors are a lot in such a way grouping data by name of director and making conclusion based on that was not so conclusive. So I decided to don't consider director name as an individual variable.\n",
    ">\n",
    "> In addition, by investigating through \"Genres\" column I found most movies has more than one genres. So I decided to consider only the first genre in the list (using `split('|')[0]`) as the \"main_genre\" and just in case if I required to investigate some questions based on genre, consider main_genre created in this way.\n",
    ">\n",
    "> I will consdier **Vote_Average** and **Revenue** as independent variables and try to find the parameters which has impact on them.\n",
    ">\n",
    "> More specifically here are questions that I am trying to find answer for them:\n",
    ">\n",
    "> (*In some of the following research questions, instead of Revenue, my main focus was on **Profit** which is new generated column as `profit = Revenue-Budget`*)\n",
    ">\n",
    "> **Considering Vote_Average as Dependent Variable:**\n",
    "- Research Question 1: which genre has highest vote_average in all years?\n",
    ">\n",
    "> **Considering Revenue as Dependent Variable:**\n",
    "- Research Question 2: Relation between Revenue and release_year?\n",
    "- Research Question 3: Relation between Profit and release_year ?\n",
    "- Research Question 4: Relation between Profit and runtime ?"
   ]
  },
  {
   "cell_type": "code",
   "execution_count": 4,
   "metadata": {},
   "outputs": [],
   "source": [
    "# first thing first, importing required packages that I want to work with them in my analysisimport numpy as np\n",
    "import numpy as np\n",
    "import pandas as pd\n",
    "import matplotlib.pyplot as plt\n",
    "import seaborn as sns\n",
    "%matplotlib inline\n",
    "sns.set_style('darkgrid')\n"
   ]
  },
  {
   "cell_type": "markdown",
   "metadata": {},
   "source": [
    "<a id='wrangling'></a>\n",
    "## Data Wrangling\n",
    "\n",
    "\n",
    "### Data Wrangling Step1 and Step 2: Data Gathering and Data Assessment\n",
    "> Data Wrangling has three main steps: 1. Data Gathering 2. Data Assessment and 3. Data Cleaning.\n",
    ">\n",
    "> in the following block codes, after importing data (Data Gathering step) I started Data Assessment.\n",
    "> \n",
    "> **tmdb_movies.csv** is original data for this project and by using `read_csv` function I imported this *csv* file. The next step is **Data Assessment**. By using `head()`, `shape`, `info()`, `duplicated()`, I tried to understand general information of data such as number of rows/columns, data type in each column and number of missing data in each column."
   ]
  },
  {
   "cell_type": "code",
   "execution_count": 18,
   "metadata": {},
   "outputs": [
    {
     "data": {
      "text/html": [
       "<div>\n",
       "<style scoped>\n",
       "    .dataframe tbody tr th:only-of-type {\n",
       "        vertical-align: middle;\n",
       "    }\n",
       "\n",
       "    .dataframe tbody tr th {\n",
       "        vertical-align: top;\n",
       "    }\n",
       "\n",
       "    .dataframe thead th {\n",
       "        text-align: right;\n",
       "    }\n",
       "</style>\n",
       "<table border=\"1\" class=\"dataframe\">\n",
       "  <thead>\n",
       "    <tr style=\"text-align: right;\">\n",
       "      <th></th>\n",
       "      <th>id</th>\n",
       "      <th>imdb_id</th>\n",
       "      <th>popularity</th>\n",
       "      <th>budget</th>\n",
       "      <th>revenue</th>\n",
       "      <th>original_title</th>\n",
       "      <th>cast</th>\n",
       "      <th>homepage</th>\n",
       "      <th>director</th>\n",
       "      <th>tagline</th>\n",
       "      <th>...</th>\n",
       "      <th>overview</th>\n",
       "      <th>runtime</th>\n",
       "      <th>genres</th>\n",
       "      <th>production_companies</th>\n",
       "      <th>release_date</th>\n",
       "      <th>vote_count</th>\n",
       "      <th>vote_average</th>\n",
       "      <th>release_year</th>\n",
       "      <th>budget_adj</th>\n",
       "      <th>revenue_adj</th>\n",
       "    </tr>\n",
       "  </thead>\n",
       "  <tbody>\n",
       "    <tr>\n",
       "      <th>0</th>\n",
       "      <td>135397</td>\n",
       "      <td>tt0369610</td>\n",
       "      <td>32.985763</td>\n",
       "      <td>150000000</td>\n",
       "      <td>1513528810</td>\n",
       "      <td>Jurassic World</td>\n",
       "      <td>Chris Pratt|Bryce Dallas Howard|Irrfan Khan|Vi...</td>\n",
       "      <td>http://www.jurassicworld.com/</td>\n",
       "      <td>Colin Trevorrow</td>\n",
       "      <td>The park is open.</td>\n",
       "      <td>...</td>\n",
       "      <td>Twenty-two years after the events of Jurassic ...</td>\n",
       "      <td>124</td>\n",
       "      <td>Action|Adventure|Science Fiction|Thriller</td>\n",
       "      <td>Universal Studios|Amblin Entertainment|Legenda...</td>\n",
       "      <td>6/9/15</td>\n",
       "      <td>5562</td>\n",
       "      <td>6.5</td>\n",
       "      <td>2015</td>\n",
       "      <td>1.379999e+08</td>\n",
       "      <td>1.392446e+09</td>\n",
       "    </tr>\n",
       "  </tbody>\n",
       "</table>\n",
       "<p>1 rows × 21 columns</p>\n",
       "</div>"
      ],
      "text/plain": [
       "       id    imdb_id  popularity     budget     revenue  original_title  \\\n",
       "0  135397  tt0369610   32.985763  150000000  1513528810  Jurassic World   \n",
       "\n",
       "                                                cast  \\\n",
       "0  Chris Pratt|Bryce Dallas Howard|Irrfan Khan|Vi...   \n",
       "\n",
       "                        homepage         director            tagline  ...  \\\n",
       "0  http://www.jurassicworld.com/  Colin Trevorrow  The park is open.  ...   \n",
       "\n",
       "                                            overview runtime  \\\n",
       "0  Twenty-two years after the events of Jurassic ...     124   \n",
       "\n",
       "                                      genres  \\\n",
       "0  Action|Adventure|Science Fiction|Thriller   \n",
       "\n",
       "                                production_companies release_date vote_count  \\\n",
       "0  Universal Studios|Amblin Entertainment|Legenda...       6/9/15       5562   \n",
       "\n",
       "   vote_average  release_year    budget_adj   revenue_adj  \n",
       "0           6.5          2015  1.379999e+08  1.392446e+09  \n",
       "\n",
       "[1 rows x 21 columns]"
      ]
     },
     "execution_count": 18,
     "metadata": {},
     "output_type": "execute_result"
    }
   ],
   "source": [
    "# loading data:\n",
    "df=pd.read_csv('tmdb_movies.csv')\n",
    "df.head(1)"
   ]
  },
  {
   "cell_type": "code",
   "execution_count": 20,
   "metadata": {},
   "outputs": [
    {
     "data": {
      "text/plain": [
       "(10866, 21)"
      ]
     },
     "execution_count": 20,
     "metadata": {},
     "output_type": "execute_result"
    }
   ],
   "source": [
    "df.shape"
   ]
  },
  {
   "cell_type": "code",
   "execution_count": 21,
   "metadata": {
    "scrolled": true
   },
   "outputs": [
    {
     "name": "stdout",
     "output_type": "stream",
     "text": [
      "<class 'pandas.core.frame.DataFrame'>\n",
      "RangeIndex: 10866 entries, 0 to 10865\n",
      "Data columns (total 21 columns):\n",
      " #   Column                Non-Null Count  Dtype  \n",
      "---  ------                --------------  -----  \n",
      " 0   id                    10866 non-null  int64  \n",
      " 1   imdb_id               10856 non-null  object \n",
      " 2   popularity            10866 non-null  float64\n",
      " 3   budget                10866 non-null  int64  \n",
      " 4   revenue               10866 non-null  int64  \n",
      " 5   original_title        10866 non-null  object \n",
      " 6   cast                  10790 non-null  object \n",
      " 7   homepage              2936 non-null   object \n",
      " 8   director              10822 non-null  object \n",
      " 9   tagline               8042 non-null   object \n",
      " 10  keywords              9373 non-null   object \n",
      " 11  overview              10862 non-null  object \n",
      " 12  runtime               10866 non-null  int64  \n",
      " 13  genres                10843 non-null  object \n",
      " 14  production_companies  9836 non-null   object \n",
      " 15  release_date          10866 non-null  object \n",
      " 16  vote_count            10866 non-null  int64  \n",
      " 17  vote_average          10866 non-null  float64\n",
      " 18  release_year          10866 non-null  int64  \n",
      " 19  budget_adj            10866 non-null  float64\n",
      " 20  revenue_adj           10866 non-null  float64\n",
      "dtypes: float64(4), int64(6), object(11)\n",
      "memory usage: 1.7+ MB\n"
     ]
    }
   ],
   "source": [
    "df.info()"
   ]
  },
  {
   "cell_type": "code",
   "execution_count": 25,
   "metadata": {},
   "outputs": [
    {
     "data": {
      "text/plain": [
       "1"
      ]
     },
     "execution_count": 25,
     "metadata": {},
     "output_type": "execute_result"
    }
   ],
   "source": [
    "df.duplicated().sum()"
   ]
  },
  {
   "cell_type": "code",
   "execution_count": 43,
   "metadata": {},
   "outputs": [
    {
     "data": {
      "text/plain": [
       "id                        int64\n",
       "popularity              float64\n",
       "budget                    int64\n",
       "revenue                   int64\n",
       "original_title           object\n",
       "cast                     object\n",
       "director                 object\n",
       "runtime                   int64\n",
       "genres                   object\n",
       "production_companies     object\n",
       "release_date             object\n",
       "vote_count                int64\n",
       "vote_average            float64\n",
       "release_year              int64\n",
       "budget_adj              float64\n",
       "revenue_adj             float64\n",
       "dtype: object"
      ]
     },
     "execution_count": 43,
     "metadata": {},
     "output_type": "execute_result"
    }
   ],
   "source": [
    "df.dtypes"
   ]
  },
  {
   "cell_type": "markdown",
   "metadata": {},
   "source": [
    "**Summary of Data Assessment:**\n"
   ]
  },
  {
   "cell_type": "markdown",
   "metadata": {},
   "source": [
    ">- from `info` section, I found *homepage*,*tagline* and *keywords* columns has too many missing data. As these columns are not helpful in my future investigation, I will delete these three columns in **cleaning** section of this study.\n",
    ">\n",
    ">- Although there are not too many missing data in *overview* column, but as I am not going to use it in my future analysis, I will delete this column completely and permanently as well(by permanently in this notebook I mean `inplace=True`). This assumption and logic will be impleted for *imdb_id* and I will delete this column as well\n",
    ">- In addition, there are some missing data for *cast* and *director* columns. In reality, these two parameters (i.e. cast and directors), most probably has strong relationship with some of movie metrics such as revenue. The most accurate way to make sure our analysis is capturing the impact of directors and cost on revenue (and other metrics) is to fill these missing values with right data, but for this study, I will drop the missing value cells in these two columns (again in **cleaning** section of this report). what I have said  for *case* and *director* is valid for *production_compay* and *genres* as well and I will drop the rows with missing values in *production_company* and *genres* as well. In summary, after completely/permanently droping previously mentioned columns, I will use `df.dropna()` to get rid of all null values in my data set as I don't have any plan to fill out null data with some specific values.\n",
    ">- There is only one line of data which is duplicated. I will consider this line to be deleted in **cleaning** section as well.\n",
    ">\n",
    ">- *release_date*  column data type is string and I will change data type to date for this column.\n",
    ">- After double checking the \"popularity\" columns in EDA section, I found, Max value is absolutely out of range in comparison to other descriptive statistics. I will remove the values which are out of range.\n",
    ">- For Budget, Revenue and accordingly in later steps for calculating **Profit**, I have decided to replace zero valus with *mean* of each column. Other alternatives such as dropping these zero values was evaluated as well, but eventually I have decided to replace them with mean value.\n",
    "\n",
    "\n"
   ]
  },
  {
   "cell_type": "markdown",
   "metadata": {},
   "source": [
    "### Data Wrangling Step 3: Data Cleaning \n",
    "> in this section, I will impletement what I have summarized in **Data Assessment** section."
   ]
  },
  {
   "cell_type": "code",
   "execution_count": 34,
   "metadata": {},
   "outputs": [],
   "source": [
    "# drop [homepage,tagline,keywords and overview] completely and permanently\n",
    "df.drop(['homepage','tagline','keywords','overview'], axis=1, inplace=True)"
   ]
  },
  {
   "cell_type": "code",
   "execution_count": 36,
   "metadata": {},
   "outputs": [],
   "source": [
    "# drop 'imdb_id' as it is not useful for future investigation.\n",
    "df.drop(['imdb_id'], axis=1, inplace=True)"
   ]
  },
  {
   "cell_type": "code",
   "execution_count": 38,
   "metadata": {},
   "outputs": [],
   "source": [
    "#drop duplicate rows. I initially checked how many duplicated rows I have in original data\n",
    "# and there was just one row which was repeated.\n",
    "df.drop_duplicates(inplace=True)"
   ]
  },
  {
   "cell_type": "code",
   "execution_count": 40,
   "metadata": {},
   "outputs": [
    {
     "data": {
      "text/plain": [
       "(10865, 16)"
      ]
     },
     "execution_count": 40,
     "metadata": {},
     "output_type": "execute_result"
    }
   ],
   "source": [
    "#check_point: double check new row and column after droping some columns and dublicated rows.\n",
    "df.shape"
   ]
  },
  {
   "cell_type": "code",
   "execution_count": 53,
   "metadata": {},
   "outputs": [],
   "source": [
    "#drop all rows with missing values\n",
    "df.dropna(inplace=True)"
   ]
  },
  {
   "cell_type": "code",
   "execution_count": 54,
   "metadata": {},
   "outputs": [
    {
     "data": {
      "text/plain": [
       "(9772, 16)"
      ]
     },
     "execution_count": 54,
     "metadata": {},
     "output_type": "execute_result"
    }
   ],
   "source": [
    "df.shape"
   ]
  },
  {
   "cell_type": "code",
   "execution_count": 55,
   "metadata": {
    "scrolled": true
   },
   "outputs": [
    {
     "name": "stdout",
     "output_type": "stream",
     "text": [
      "<class 'pandas.core.frame.DataFrame'>\n",
      "Int64Index: 9772 entries, 0 to 10865\n",
      "Data columns (total 16 columns):\n",
      " #   Column                Non-Null Count  Dtype  \n",
      "---  ------                --------------  -----  \n",
      " 0   id                    9772 non-null   int64  \n",
      " 1   popularity            9772 non-null   float64\n",
      " 2   budget                9772 non-null   int64  \n",
      " 3   revenue               9772 non-null   int64  \n",
      " 4   original_title        9772 non-null   object \n",
      " 5   cast                  9772 non-null   object \n",
      " 6   director              9772 non-null   object \n",
      " 7   runtime               9772 non-null   int64  \n",
      " 8   genres                9772 non-null   object \n",
      " 9   production_companies  9772 non-null   object \n",
      " 10  release_date          9772 non-null   object \n",
      " 11  vote_count            9772 non-null   int64  \n",
      " 12  vote_average          9772 non-null   float64\n",
      " 13  release_year          9772 non-null   int64  \n",
      " 14  budget_adj            9772 non-null   float64\n",
      " 15  revenue_adj           9772 non-null   float64\n",
      "dtypes: float64(4), int64(6), object(6)\n",
      "memory usage: 1.3+ MB\n"
     ]
    }
   ],
   "source": [
    "df.info()"
   ]
  },
  {
   "cell_type": "markdown",
   "metadata": {},
   "source": [
    "Next Step in Data Cleaning, was to convert **release_date** data format from *string* to *date* format. (that was a bit more challenging than what I thought). \n",
    "\n",
    "**I should emphasize on this fact that  I knew I have release_year column in my original data and most probably release_year was enough for what I want to analyze, but just to CHALLENGE myself, I decided to convert data type for release_date column.**\n",
    "\n",
    "in the following line of codes I will explain step by steb what I did specifically at each step."
   ]
  },
  {
   "cell_type": "code",
   "execution_count": 132,
   "metadata": {
    "scrolled": true
   },
   "outputs": [
    {
     "data": {
      "text/html": [
       "<div>\n",
       "<style scoped>\n",
       "    .dataframe tbody tr th:only-of-type {\n",
       "        vertical-align: middle;\n",
       "    }\n",
       "\n",
       "    .dataframe tbody tr th {\n",
       "        vertical-align: top;\n",
       "    }\n",
       "\n",
       "    .dataframe thead th {\n",
       "        text-align: right;\n",
       "    }\n",
       "</style>\n",
       "<table border=\"1\" class=\"dataframe\">\n",
       "  <thead>\n",
       "    <tr style=\"text-align: right;\">\n",
       "      <th></th>\n",
       "      <th>release_date</th>\n",
       "      <th>release_year</th>\n",
       "    </tr>\n",
       "  </thead>\n",
       "  <tbody>\n",
       "    <tr>\n",
       "      <th>0</th>\n",
       "      <td>6/9/15</td>\n",
       "      <td>2015</td>\n",
       "    </tr>\n",
       "    <tr>\n",
       "      <th>1</th>\n",
       "      <td>5/13/15</td>\n",
       "      <td>2015</td>\n",
       "    </tr>\n",
       "    <tr>\n",
       "      <th>2</th>\n",
       "      <td>3/18/15</td>\n",
       "      <td>2015</td>\n",
       "    </tr>\n",
       "    <tr>\n",
       "      <th>3</th>\n",
       "      <td>12/15/15</td>\n",
       "      <td>2015</td>\n",
       "    </tr>\n",
       "    <tr>\n",
       "      <th>4</th>\n",
       "      <td>4/1/15</td>\n",
       "      <td>2015</td>\n",
       "    </tr>\n",
       "    <tr>\n",
       "      <th>...</th>\n",
       "      <td>...</td>\n",
       "      <td>...</td>\n",
       "    </tr>\n",
       "    <tr>\n",
       "      <th>10861</th>\n",
       "      <td>6/15/66</td>\n",
       "      <td>1966</td>\n",
       "    </tr>\n",
       "    <tr>\n",
       "      <th>10862</th>\n",
       "      <td>12/21/66</td>\n",
       "      <td>1966</td>\n",
       "    </tr>\n",
       "    <tr>\n",
       "      <th>10863</th>\n",
       "      <td>1/1/66</td>\n",
       "      <td>1966</td>\n",
       "    </tr>\n",
       "    <tr>\n",
       "      <th>10864</th>\n",
       "      <td>11/2/66</td>\n",
       "      <td>1966</td>\n",
       "    </tr>\n",
       "    <tr>\n",
       "      <th>10865</th>\n",
       "      <td>11/15/66</td>\n",
       "      <td>1966</td>\n",
       "    </tr>\n",
       "  </tbody>\n",
       "</table>\n",
       "<p>9772 rows × 2 columns</p>\n",
       "</div>"
      ],
      "text/plain": [
       "      release_date  release_year\n",
       "0           6/9/15          2015\n",
       "1          5/13/15          2015\n",
       "2          3/18/15          2015\n",
       "3         12/15/15          2015\n",
       "4           4/1/15          2015\n",
       "...            ...           ...\n",
       "10861      6/15/66          1966\n",
       "10862     12/21/66          1966\n",
       "10863       1/1/66          1966\n",
       "10864      11/2/66          1966\n",
       "10865     11/15/66          1966\n",
       "\n",
       "[9772 rows x 2 columns]"
      ]
     },
     "execution_count": 132,
     "metadata": {},
     "output_type": "execute_result"
    }
   ],
   "source": [
    "#step1: comparing 'release_date' and 'release_year' columns\n",
    "# I just wanted to compare release_date and release_year and make sure release_year is good enough for my future investigation.\n",
    "df[['release_date','release_year']]"
   ]
  },
  {
   "cell_type": "code",
   "execution_count": 133,
   "metadata": {},
   "outputs": [],
   "source": [
    "#step2: I used \"to_datetime\" function to convert date time from string to date format. \n",
    "# I created temporary column (Series) for this purpose (the name of this temp column is 'test')\n",
    "#at the end of my analysis I will replace release_date with this column and will drop it.\n",
    "\n",
    "\n",
    "\n",
    "df['test']=pd.to_datetime(df['release_date']) \n",
    "\n"
   ]
  },
  {
   "cell_type": "markdown",
   "metadata": {},
   "source": [
    "Challenge started here: years are written in 2 digit format in original data type (e.g. 69 for 1969)\n",
    "for some reason,Pandas didn't recognize years before 1970 (e.g. instead of converting 69 to 1969, 69 converted to 2069)."
   ]
  },
  {
   "cell_type": "code",
   "execution_count": 537,
   "metadata": {
    "scrolled": true
   },
   "outputs": [],
   "source": [
    "df[['test','release_date']]"
   ]
  },
  {
   "cell_type": "code",
   "execution_count": 175,
   "metadata": {},
   "outputs": [],
   "source": [
    "# Step3: To resolve this issue; \n",
    "#I created another temporary DataFrame (below) for the columns that I had this issue:\n",
    "df_temp1=df[(df['test'] >= '2060-01-01') & (df['test'] <= '2069-12-31')]"
   ]
  },
  {
   "cell_type": "code",
   "execution_count": 176,
   "metadata": {},
   "outputs": [
    {
     "data": {
      "text/plain": [
       "(347, 17)"
      ]
     },
     "execution_count": 176,
     "metadata": {},
     "output_type": "execute_result"
    }
   ],
   "source": [
    "# a quick test\n",
    "df_temp1.shape"
   ]
  },
  {
   "cell_type": "code",
   "execution_count": 177,
   "metadata": {},
   "outputs": [
    {
     "name": "stderr",
     "output_type": "stream",
     "text": [
      "C:\\Users\\Khajeh\\anaconda3\\lib\\site-packages\\ipykernel_launcher.py:1: SettingWithCopyWarning: \n",
      "A value is trying to be set on a copy of a slice from a DataFrame.\n",
      "Try using .loc[row_indexer,col_indexer] = value instead\n",
      "\n",
      "See the caveats in the documentation: https://pandas.pydata.org/pandas-docs/stable/user_guide/indexing.html#returning-a-view-versus-a-copy\n",
      "  \"\"\"Entry point for launching an IPython kernel.\n"
     ]
    }
   ],
   "source": [
    "# Step 4: here I subtracted 100 years from years \n",
    "#(e.g. 2069 will be converted to 1969 based on following line of code)\n",
    "df_temp1['test'] = df_temp1['test'].apply(lambda x: x - pd.DateOffset(years=100))"
   ]
  },
  {
   "cell_type": "code",
   "execution_count": 178,
   "metadata": {},
   "outputs": [
    {
     "data": {
      "text/plain": [
       "Timestamp('1960-01-01 00:00:00')"
      ]
     },
     "execution_count": 178,
     "metadata": {},
     "output_type": "execute_result"
    }
   ],
   "source": [
    "# a quick test\n",
    "df_temp1['test'].min()"
   ]
  },
  {
   "cell_type": "code",
   "execution_count": 179,
   "metadata": {},
   "outputs": [
    {
     "data": {
      "text/plain": [
       "Timestamp('1969-12-29 00:00:00')"
      ]
     },
     "execution_count": 179,
     "metadata": {},
     "output_type": "execute_result"
    }
   ],
   "source": [
    "# another quick test.\n",
    "df_temp1['test'].max()"
   ]
  },
  {
   "cell_type": "code",
   "execution_count": 184,
   "metadata": {},
   "outputs": [],
   "source": [
    "# step5: in this step based on following lines  I replaced the rows in original DataFrame(i.e in df) \n",
    "#with the one that  I implemented these changes.\n",
    "#these replacement is based on index of rows in df_temp, so first I found the indeces as follow:\n",
    "indices=df_temp1.index"
   ]
  },
  {
   "cell_type": "code",
   "execution_count": 194,
   "metadata": {},
   "outputs": [],
   "source": [
    "#replacing 'test' column in df by 'test' column in df_temp but just for specific indices.\n",
    "df.loc[indices,'test'] = df_temp1['test']\n"
   ]
  },
  {
   "cell_type": "code",
   "execution_count": 195,
   "metadata": {},
   "outputs": [
    {
     "data": {
      "text/plain": [
       "Timestamp('2015-12-31 00:00:00')"
      ]
     },
     "execution_count": 195,
     "metadata": {},
     "output_type": "execute_result"
    }
   ],
   "source": [
    "#quick test\n",
    "df['test'].max()"
   ]
  },
  {
   "cell_type": "code",
   "execution_count": 196,
   "metadata": {},
   "outputs": [],
   "source": [
    "# Step 6: Eventually, I replaced 'release_date' with 'test' and \n",
    "#permanently drop the 'test' column which is not applicable anymore.\n",
    "df['release_date']=df['test']"
   ]
  },
  {
   "cell_type": "code",
   "execution_count": 197,
   "metadata": {},
   "outputs": [
    {
     "data": {
      "text/plain": [
       "Timestamp('1960-01-01 00:00:00')"
      ]
     },
     "execution_count": 197,
     "metadata": {},
     "output_type": "execute_result"
    }
   ],
   "source": [
    "df['release_date'].min()"
   ]
  },
  {
   "cell_type": "code",
   "execution_count": 198,
   "metadata": {},
   "outputs": [
    {
     "data": {
      "text/plain": [
       "Timestamp('2015-12-31 00:00:00')"
      ]
     },
     "execution_count": 198,
     "metadata": {},
     "output_type": "execute_result"
    }
   ],
   "source": [
    "df['release_date'].max()"
   ]
  },
  {
   "cell_type": "code",
   "execution_count": 199,
   "metadata": {},
   "outputs": [],
   "source": [
    "#permanent drop of 'test' column.\n",
    "df.drop('test',axis=1,inplace=True)"
   ]
  },
  {
   "cell_type": "code",
   "execution_count": 200,
   "metadata": {},
   "outputs": [
    {
     "data": {
      "text/plain": [
       "(9772, 16)"
      ]
     },
     "execution_count": 200,
     "metadata": {},
     "output_type": "execute_result"
    }
   ],
   "source": [
    "#another test to make sure shape of main DataFrame is consistent with what I had before this format change.\n",
    "df.shape"
   ]
  },
  {
   "cell_type": "code",
   "execution_count": 201,
   "metadata": {},
   "outputs": [
    {
     "name": "stdout",
     "output_type": "stream",
     "text": [
      "<class 'pandas.core.frame.DataFrame'>\n",
      "Int64Index: 9772 entries, 0 to 10865\n",
      "Data columns (total 16 columns):\n",
      " #   Column                Non-Null Count  Dtype         \n",
      "---  ------                --------------  -----         \n",
      " 0   id                    9772 non-null   int64         \n",
      " 1   popularity            9772 non-null   float64       \n",
      " 2   budget                9772 non-null   int64         \n",
      " 3   revenue               9772 non-null   int64         \n",
      " 4   original_title        9772 non-null   object        \n",
      " 5   cast                  9772 non-null   object        \n",
      " 6   director              9772 non-null   object        \n",
      " 7   runtime               9772 non-null   int64         \n",
      " 8   genres                9772 non-null   object        \n",
      " 9   production_companies  9772 non-null   object        \n",
      " 10  release_date          9772 non-null   datetime64[ns]\n",
      " 11  vote_count            9772 non-null   int64         \n",
      " 12  vote_average          9772 non-null   float64       \n",
      " 13  release_year          9772 non-null   int64         \n",
      " 14  budget_adj            9772 non-null   float64       \n",
      " 15  revenue_adj           9772 non-null   float64       \n",
      "dtypes: datetime64[ns](1), float64(4), int64(6), object(5)\n",
      "memory usage: 1.6+ MB\n"
     ]
    }
   ],
   "source": [
    "#check to make sure release_date format has been changed.\n",
    "df.info()"
   ]
  },
  {
   "cell_type": "code",
   "execution_count": 202,
   "metadata": {},
   "outputs": [],
   "source": [
    "#At the end of cleaning phase, I saved a copy of what I did so far\n",
    "df.to_csv('tmdb_movies_clean.csv',index=False)"
   ]
  },
  {
   "cell_type": "code",
   "execution_count": 5,
   "metadata": {},
   "outputs": [],
   "source": [
    "df=pd.read_csv('tmdb_movies_clean.csv')"
   ]
  },
  {
   "cell_type": "markdown",
   "metadata": {},
   "source": [
    "*THIS IS END OF DATA CLEANING AND ACCORDINGLY DATA WRANGLING STEP*"
   ]
  },
  {
   "cell_type": "markdown",
   "metadata": {},
   "source": [
    "<a id='eda'></a>\n",
    "## Exploratory Data Analysis\n",
    "\n",
    "### Research Question 1: Which Genre has the highest vote_average ?"
   ]
  },
  {
   "cell_type": "markdown",
   "metadata": {},
   "source": [
    "I just tried to visualize these two variables individually and find relation between them"
   ]
  },
  {
   "cell_type": "code",
   "execution_count": 41,
   "metadata": {},
   "outputs": [
    {
     "data": {
      "text/plain": [
       "Text(0.5, 1.0, 'vote_average histrogram')"
      ]
     },
     "execution_count": 41,
     "metadata": {},
     "output_type": "execute_result"
    },
    {
     "data": {
      "image/png": "[encoded data removed]",
      "text/plain": [
       "<Figure size 432x288 with 1 Axes>"
      ]
     },
     "metadata": {},
     "output_type": "display_data"
    }
   ],
   "source": [
    "df['vote_average'].hist();\n",
    "plt.xlabel('vote_average')\n",
    "plt.ylabel('Frequency')\n",
    "plt.title('vote_average histrogram')"
   ]
  },
  {
   "cell_type": "markdown",
   "metadata": {},
   "source": [
    "vote_average is skewed to the left, which means that most of values in this column are on higher end side values."
   ]
  },
  {
   "cell_type": "markdown",
   "metadata": {},
   "source": [
    "As explained before, here, I am creating new column and name it as **main_genre**. This column include only the first genre of all genres listed in genres column for each movie."
   ]
  },
  {
   "cell_type": "code",
   "execution_count": 35,
   "metadata": {},
   "outputs": [],
   "source": [
    "df['main_genre']=df['genres'].apply(lambda x: x.split('|')[0])"
   ]
  },
  {
   "cell_type": "code",
   "execution_count": 257,
   "metadata": {},
   "outputs": [
    {
     "data": {
      "text/plain": [
       "(9772, 17)"
      ]
     },
     "execution_count": 257,
     "metadata": {},
     "output_type": "execute_result"
    }
   ],
   "source": [
    "# a quick test to make sure new column is added\n",
    "df.shape"
   ]
  },
  {
   "cell_type": "code",
   "execution_count": 43,
   "metadata": {},
   "outputs": [
    {
     "data": {
      "text/plain": [
       "Text(0.5, 1.0, 'Cumulative main_genre count for all years')"
      ]
     },
     "execution_count": 43,
     "metadata": {},
     "output_type": "execute_result"
    },
    {
     "data": {
      "image/png": "[encoded data removed]",
      "text/plain": [
       "<Figure size 432x288 with 1 Axes>"
      ]
     },
     "metadata": {},
     "output_type": "display_data"
    }
   ],
   "source": [
    "main_genre_counts=df['main_genre'].value_counts()\n",
    "plt.bar(main_genre_counts.index,main_genre_counts);\n",
    "plt.xticks(fontsize=14, rotation=90);\n",
    "plt.xlabel('Main_Genre')\n",
    "plt.ylabel('Count')\n",
    "plt.title('Cumulative main_genre count for all years')"
   ]
  },
  {
   "cell_type": "code",
   "execution_count": 45,
   "metadata": {},
   "outputs": [],
   "source": [
    "vote_ave_median=df.groupby('main_genre')['vote_average'].median()"
   ]
  },
  {
   "cell_type": "code",
   "execution_count": 49,
   "metadata": {
    "scrolled": false
   },
   "outputs": [
    {
     "data": {
      "image/png": "[encoded data removed]",
      "text/plain": [
       "<Figure size 432x288 with 1 Axes>"
      ]
     },
     "metadata": {},
     "output_type": "display_data"
    }
   ],
   "source": [
    "plt.bar(main_genre_counts.index,vote_ave_median);\n",
    "plt.xticks(fontsize=14, rotation=90);\n",
    "plt.xlabel('Main_Genre')\n",
    "plt.ylabel('Median of Vote_Average')\n",
    "plt.title('Median vote_average of main_genre');"
   ]
  },
  {
   "cell_type": "markdown",
   "metadata": {},
   "source": [
    ">from the last plot, it could be observed that **Documentary** genre, has the highest median of vote_average in comparison to all other genres.\n",
    ">\n",
    ">another conclusion that could be made from the last two plots is: *vote_average* order and *value_counts* of different genres are not aligned with each other."
   ]
  },
  {
   "cell_type": "markdown",
   "metadata": {},
   "source": [
    "Just as an another practice, I tried to put both of prevoius plots in same plot. I am 100% confident that in next coming lessons I can make the following plot much more beautiful :) ."
   ]
  },
  {
   "cell_type": "code",
   "execution_count": 311,
   "metadata": {
    "scrolled": true
   },
   "outputs": [
    {
     "data": {
      "image/png": "[encoded data removed]",
      "text/plain": [
       "<Figure size 432x288 with 2 Axes>"
      ]
     },
     "metadata": {},
     "output_type": "display_data"
    }
   ],
   "source": [
    "plt.subplot(1,2,1)\n",
    "plt.bar(main_genre_counts.index,vote_ave_median)\n",
    "plt.xticks(fontsize=7, rotation=90);\n",
    "plt.subplot(1,2,2)\n",
    "plt.bar(main_genre_counts.index,main_genre_counts);\n",
    "plt.xticks(fontsize=7, rotation=90);"
   ]
  },
  {
   "cell_type": "markdown",
   "metadata": {},
   "source": [
    "###  Research Question 2: Relationship between revenue_adj and release_year"
   ]
  },
  {
   "cell_type": "markdown",
   "metadata": {},
   "source": [
    "The first task that I will do here is to replace zero values in revenue and budget with zero values. Of course this step(i.e. replacing zeros with mean value) is related to \"Data Wrangling\" Phase, but referring to this fact that Data Analysis phases are not restrict sequential, I found I need to replace zero values with mean for this research question."
   ]
  },
  {
   "cell_type": "code",
   "execution_count": 8,
   "metadata": {
    "scrolled": true
   },
   "outputs": [
    {
     "data": {
      "text/plain": [
       "0    4751\n",
       "Name: budget, dtype: int64"
      ]
     },
     "execution_count": 8,
     "metadata": {},
     "output_type": "execute_result"
    }
   ],
   "source": [
    "df[df['budget']==0]['budget'].value_counts()"
   ]
  },
  {
   "cell_type": "markdown",
   "metadata": {},
   "source": [
    "As could be seen, number of zero values in this column was a bit large (4751) which is almost 50% of our values. So That's the reason that I decided to replace these zero values with mean instead of dropping them. Of course, some other more accurate ways (regression maybe ?) could be used here, but for now I just decided to replace them with mean. "
   ]
  },
  {
   "cell_type": "code",
   "execution_count": 9,
   "metadata": {},
   "outputs": [],
   "source": [
    "df['budget']=df['budget'].mask(df['budget'] == 0,df['budget'].mean())"
   ]
  },
  {
   "cell_type": "code",
   "execution_count": 11,
   "metadata": {},
   "outputs": [
    {
     "data": {
      "text/plain": [
       "Series([], Name: budget, dtype: float64)"
      ]
     },
     "execution_count": 11,
     "metadata": {},
     "output_type": "execute_result"
    }
   ],
   "source": [
    "#test to see if there is still zero values in 'budget' column or not:\n",
    "df[df['budget']==0]['budget'].value_counts()"
   ]
  },
  {
   "cell_type": "markdown",
   "metadata": {},
   "source": [
    "I will repeat the same process for revenue and also for revenue_adj and budget_adj (the last two ones are the columns that I will work with them later on)."
   ]
  },
  {
   "cell_type": "code",
   "execution_count": 14,
   "metadata": {},
   "outputs": [],
   "source": [
    "df['budget_adj']=df['budget_adj'].mask(df['budget_adj'] == 0,df['budget_adj'].mean())"
   ]
  },
  {
   "cell_type": "code",
   "execution_count": 15,
   "metadata": {},
   "outputs": [],
   "source": [
    "df['revenue']=df['revenue'].mask(df['revenue'] == 0,df['revenue'].mean())"
   ]
  },
  {
   "cell_type": "code",
   "execution_count": null,
   "metadata": {},
   "outputs": [],
   "source": [
    "df['budget']=df['budget'].mask(df['budget'] == 0,df['budget'].mean())"
   ]
  },
  {
   "cell_type": "code",
   "execution_count": 16,
   "metadata": {},
   "outputs": [],
   "source": [
    "df['revenue_adj']=df['revenue_adj'].mask(df['revenue_adj'] == 0,df['revenue_adj'].mean())"
   ]
  },
  {
   "cell_type": "markdown",
   "metadata": {},
   "source": [
    "To find relationship between `revenue_adj` and `release_year`, first I grouped the data by `release_year`. I considered several kinds of aggregation statistics (including: mean, median, min and max) and eventually I decided to consider maximum of revenue for each year."
   ]
  },
  {
   "cell_type": "code",
   "execution_count": 51,
   "metadata": {
    "scrolled": false
   },
   "outputs": [
    {
     "data": {
      "image/png": "[encoded data removed]",
      "text/plain": [
       "<Figure size 432x288 with 1 Axes>"
      ]
     },
     "metadata": {},
     "output_type": "display_data"
    }
   ],
   "source": [
    "df.groupby('release_year').max()['revenue_adj'].plot();\n",
    "plt.xlabel('release_year')\n",
    "plt.ylabel('Maximum revenue_adj')\n",
    "plt.title('maximum revenue_adj from 1960 to 2015');"
   ]
  },
  {
   "cell_type": "markdown",
   "metadata": {},
   "source": [
    "from the above plot it could be concluded that max of revenue generation per year is not necessarily increasing over the time. the plot shows in some specific years the revenue is considerably higher than the other years. In the next research question, I was curious to see what about profit which is revenue subtracted from Budget associate with crearing that movie. again I considered max profitability as a metric for this investigation."
   ]
  },
  {
   "cell_type": "markdown",
   "metadata": {},
   "source": [
    "### Research Question 3: Relationship between profit_adj and release_year\n"
   ]
  },
  {
   "cell_type": "code",
   "execution_count": 20,
   "metadata": {},
   "outputs": [],
   "source": [
    "#first creating new column which is profit_adj:\n",
    "df['profit_adj']=df['revenue_adj']-df['budget_adj']"
   ]
  },
  {
   "cell_type": "code",
   "execution_count": 52,
   "metadata": {},
   "outputs": [
    {
     "data": {
      "image/png": "[encoded data removed]",
      "text/plain": [
       "<Figure size 432x288 with 1 Axes>"
      ]
     },
     "metadata": {},
     "output_type": "display_data"
    }
   ],
   "source": [
    "#then creating a line chart for max of profitability for each year like what I did for revenue_adj:\n",
    "df.groupby('release_year').max()['profit_adj'].plot();\n",
    "plt.xlabel('release_year')\n",
    "plt.ylabel('Maximum profit_adj')\n",
    "plt.title('maximum profit_adj from 1960 to 2015');"
   ]
  },
  {
   "cell_type": "markdown",
   "metadata": {},
   "source": [
    "The trend is so similar to the trend obtained from Research Question 2 analysis, Which means that it should be high correlation between Revenue Generation and Profit associate with that. In the following plots, I tried to investigate more distribution of cost, distribution of revenue and confirm that higher revenue is associate with higher profit."
   ]
  },
  {
   "cell_type": "code",
   "execution_count": 55,
   "metadata": {},
   "outputs": [
    {
     "data": {
      "image/png": "[encoded data removed]",
      "text/plain": [
       "<Figure size 432x288 with 1 Axes>"
      ]
     },
     "metadata": {},
     "output_type": "display_data"
    }
   ],
   "source": [
    "df['budget_adj'].hist()\n",
    "plt.xlabel('budget_adj')\n",
    "plt.ylabel('Frequency')\n",
    "plt.title('budject_adj distribution');"
   ]
  },
  {
   "cell_type": "code",
   "execution_count": 59,
   "metadata": {},
   "outputs": [
    {
     "data": {
      "image/png": "[encoded data removed]",
      "text/plain": [
       "<Figure size 432x288 with 1 Axes>"
      ]
     },
     "metadata": {},
     "output_type": "display_data"
    }
   ],
   "source": [
    "df['budget_adj'].plot(kind='box')\n",
    "\n",
    "plt.ylabel('Budget_adj')\n",
    "plt.title('budject_adj Box_Plot');"
   ]
  },
  {
   "cell_type": "markdown",
   "metadata": {},
   "source": [
    "from Box plot and Bar chart shown for budget_adj, it could be concluded that distribution of budget_adj is pretty uniform and that is one reason why the higher revenue is associate with higher profitability. in the following scatter plot the relationship between max profit and max revenue for each year is plotted"
   ]
  },
  {
   "cell_type": "code",
   "execution_count": 24,
   "metadata": {},
   "outputs": [],
   "source": [
    "max_yearly_profit=df.groupby('release_year').max()['profit_adj']\n",
    "max_yearly_revenue=df.groupby('release_year').max()['revenue_adj']\n"
   ]
  },
  {
   "cell_type": "markdown",
   "metadata": {},
   "source": [
    "Here I am using `concat` to glue two data series in to one new data frame."
   ]
  },
  {
   "cell_type": "code",
   "execution_count": 25,
   "metadata": {},
   "outputs": [],
   "source": [
    "df_max=pd.concat([max_yearly_profit, max_yearly_revenue], axis=1)"
   ]
  },
  {
   "cell_type": "code",
   "execution_count": 26,
   "metadata": {
    "scrolled": true
   },
   "outputs": [
    {
     "data": {
      "text/html": [
       "<div>\n",
       "<style scoped>\n",
       "    .dataframe tbody tr th:only-of-type {\n",
       "        vertical-align: middle;\n",
       "    }\n",
       "\n",
       "    .dataframe tbody tr th {\n",
       "        vertical-align: top;\n",
       "    }\n",
       "\n",
       "    .dataframe thead th {\n",
       "        text-align: right;\n",
       "    }\n",
       "</style>\n",
       "<table border=\"1\" class=\"dataframe\">\n",
       "  <thead>\n",
       "    <tr style=\"text-align: right;\">\n",
       "      <th></th>\n",
       "      <th>profit_adj</th>\n",
       "      <th>revenue_adj</th>\n",
       "    </tr>\n",
       "    <tr>\n",
       "      <th>release_year</th>\n",
       "      <th></th>\n",
       "      <th></th>\n",
       "    </tr>\n",
       "  </thead>\n",
       "  <tbody>\n",
       "    <tr>\n",
       "      <th>1960</th>\n",
       "      <td>3.539024e+08</td>\n",
       "      <td>4.423780e+08</td>\n",
       "    </tr>\n",
       "    <tr>\n",
       "      <th>1961</th>\n",
       "      <td>1.545635e+09</td>\n",
       "      <td>1.574815e+09</td>\n",
       "    </tr>\n",
       "    <tr>\n",
       "      <th>1962</th>\n",
       "      <td>4.216943e+08</td>\n",
       "      <td>5.045914e+08</td>\n",
       "    </tr>\n",
       "    <tr>\n",
       "      <th>1963</th>\n",
       "      <td>5.439729e+08</td>\n",
       "      <td>5.617734e+08</td>\n",
       "    </tr>\n",
       "    <tr>\n",
       "      <th>1964</th>\n",
       "      <td>8.534745e+08</td>\n",
       "      <td>8.780804e+08</td>\n",
       "    </tr>\n",
       "  </tbody>\n",
       "</table>\n",
       "</div>"
      ],
      "text/plain": [
       "                profit_adj   revenue_adj\n",
       "release_year                            \n",
       "1960          3.539024e+08  4.423780e+08\n",
       "1961          1.545635e+09  1.574815e+09\n",
       "1962          4.216943e+08  5.045914e+08\n",
       "1963          5.439729e+08  5.617734e+08\n",
       "1964          8.534745e+08  8.780804e+08"
      ]
     },
     "execution_count": 26,
     "metadata": {},
     "output_type": "execute_result"
    }
   ],
   "source": [
    "# a quick test\n",
    "df_max.head()"
   ]
  },
  {
   "cell_type": "markdown",
   "metadata": {},
   "source": [
    "And here is scatter plot of profit_adj vs. revenue_adj: it is so clear that it is direct relationship between revenue_adj and profit_adjusted **IF** we assume that maximum yearly revenue and maximum yearly profit is going to be representative of yearly revenue and yearly profit."
   ]
  },
  {
   "cell_type": "code",
   "execution_count": 60,
   "metadata": {
    "scrolled": true
   },
   "outputs": [
    {
     "data": {
      "image/png": "[encoded data removed]",
      "text/plain": [
       "<Figure size 432x288 with 1 Axes>"
      ]
     },
     "metadata": {},
     "output_type": "display_data"
    }
   ],
   "source": [
    "df_max.plot.scatter(x='profit_adj',y='revenue_adj');\n",
    "\n",
    "plt.title('max Profit_adj vs. max Revenue_adj');"
   ]
  },
  {
   "cell_type": "markdown",
   "metadata": {},
   "source": [
    "### Research Question 4: Relationship between Profit and runtime"
   ]
  },
  {
   "cell_type": "markdown",
   "metadata": {},
   "source": [
    "For the last part, I was just curious to see if there is a relationship between runtime and profitability ? I mean, can we conclude that the higher runtime of the movie is associated with higher revenue and accordingly associate with higher profit (as we concluded that max revenue of each year is highly correlated with max profit of each year).for that purpose, I created two Series: one of them maximum of profit per year and the other one maximum of run time per year. Again, here my focus on aggregate function is `.max()` which means that I am going to **assume** that max profit and max runtime correlation is representative of correlation between runtime and profit. "
   ]
  },
  {
   "cell_type": "code",
   "execution_count": 28,
   "metadata": {},
   "outputs": [],
   "source": [
    "max_yearly_profit=df.groupby('release_year').max()['profit_adj']\n",
    "max_yearly_runtime=df.groupby('release_year').max()['runtime']"
   ]
  },
  {
   "cell_type": "markdown",
   "metadata": {},
   "source": [
    "Then I concatanate these two series to find correlation between them:"
   ]
  },
  {
   "cell_type": "code",
   "execution_count": 29,
   "metadata": {},
   "outputs": [],
   "source": [
    "df_runtime=pd.concat([max_yearly_profit, max_yearly_runtime], axis=1)"
   ]
  },
  {
   "cell_type": "markdown",
   "metadata": {},
   "source": [
    "and eventually plotting scatterplot of these two series:"
   ]
  },
  {
   "cell_type": "code",
   "execution_count": 61,
   "metadata": {
    "scrolled": true
   },
   "outputs": [
    {
     "data": {
      "image/png": "[encoded data removed]",
      "text/plain": [
       "<Figure size 432x288 with 1 Axes>"
      ]
     },
     "metadata": {},
     "output_type": "display_data"
    }
   ],
   "source": [
    "df_runtime.plot.scatter(x='profit_adj',y='runtime');\n",
    "\n",
    "plt.title('max runtime vs. max profit_adj');"
   ]
  },
  {
   "cell_type": "markdown",
   "metadata": {},
   "source": [
    "Although the positive correlation could be observed from above plot, but it is not so significant and it can not be strongly conclude that runtime is highly correlated with profit."
   ]
  },
  {
   "cell_type": "markdown",
   "metadata": {},
   "source": [
    "<a id='limitation'></a>\n",
    "## Limitation\n",
    "\n",
    "I was dealing with some limitations which resulted in making some assumptions for my analysis. Having access to more information may result in making more precise conclusion. in this section I am listing the main limitations that I was dealing with them in my analysis:\n",
    "1. for **genres** column: I had multiple genres for each movie. I was curious to investigate my result based on main genre. I didn't have access to single genre for each movie and accordingly I just assume that the first genre in list of genres for each movie is representative of main genre. further investigation was based on this genre.\n",
    "2. for **revenue**, **budget** and accordingly for **profit** I put all genres in the same basket. another alternative was to consider each genre in the same basket and perform revenue/profit analysis for each genre separately.\n",
    "3. I replaced zero values in **revenue** and **budget** by mean of these columns. I didn't have enough information about why these values are reported as zero. Of course there are some better ways to replace these zero values but as I didn't have access to more information and as total number of zeros for these two variables was high enough, I didn't drop them and I found replacing them with mean value is the most reasonable approach to take.\n",
    "4. For the groupby section,`max()` aggregation is considered. This is another assumption that I was not 100% sure if this is true or not. Again, limited knowledge about movie industry resulted in just assuming that max() could be representative of revenue and budget for the whole year.\n",
    "\n"
   ]
  },
  {
   "cell_type": "markdown",
   "metadata": {},
   "source": [
    "<a id='conclusions'></a>\n",
    "## Conclusions\n",
    "\n",
    "After Initial investigation and Data Wrangling section: I was interested to see:\n",
    "- **Which Genre has the highest vote_average ?** \n",
    ">- for this purpose I first created `main_genre` column by *Assuming* that the first genre in genres is the main one. The main conclusion obtained from this investigation was: **The higher the number of genre is NOT associated with higher vote_average** In my analysis, I found **Drama** had highest number of main_genre among all movies while **Thriller** genre was the genre with the highest vote_average.\n",
    "\n",
    "- **Relationship between revenue_adj and release_year** \n",
    ">- Before plotting, I was expecting to see positive trend of increase in maximum revenue of a movie over the years, but after plotting max_revenue for each year, I found it is not clear trend in max_revenue over as a function of time. in next question I was curious to find the same relationship for profit over the years.\n",
    "\n",
    "- **Relationship between profit_adj and release_year** \n",
    ">- After creating new column (Profit) I just tried to do the same as I did for revenue but this time with profit. the shape of profit over time was so similar to revenue over time. The initial hypothesis was the budget may not be significantly difference for the movies with max_revenue each year and after further investigation I found this hypothesis is true. I finished the analysis in this research quesiton by making this conclusion that: **strong correlation exists between max profit and max revenue over the year**.\n",
    "\n",
    "- **Relationship between profit_adj and runtime** \n",
    ">- Eventually, I was interested to see if the profit (max profit for each year) is correlated with max runtime ? what I found was: Although there is positive correlation between these two variables, but the correlation was not so significant.\n",
    "\n",
    "> **Tip**: Once you are satisfied with your work, you should save a copy of the report in HTML or PDF form via the **File** > **Download as** submenu. Before exporting your report, check over it to make sure that the flow of the report is complete. You should probably remove all of the \"Tip\" quotes like this one so that the presentation is as tidy as possible. Congratulations!"
   ]
  },
  {
   "cell_type": "code",
   "execution_count": null,
   "metadata": {
    "collapsed": true
   },
   "outputs": [],
   "source": []
  }
 ],
 "metadata": {
  "kernelspec": {
   "display_name": "Python 3",
   "language": "python",
   "name": "python3"
  },
  "language_info": {
   "codemirror_mode": {
    "name": "ipython",
    "version": 3
   },
   "file_extension": ".py",
   "mimetype": "text/x-python",
   "name": "python",
   "nbconvert_exporter": "python",
   "pygments_lexer": "ipython3",
   "version": "3.7.7"
  }
 },
 "nbformat": 4,
 "nbformat_minor": 2
}
